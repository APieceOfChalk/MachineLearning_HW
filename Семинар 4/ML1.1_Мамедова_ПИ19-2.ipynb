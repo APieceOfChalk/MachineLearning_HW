{
 "cells": [
  {
   "attachments": {},
   "cell_type": "markdown",
   "id": "1e3afa8d",
   "metadata": {},
   "source": [
    "# Парная линейная регрессия"
   ]
  },
  {
   "cell_type": "markdown",
   "id": "f551d3eb",
   "metadata": {},
   "source": [
    "### Мамедова Лейла ПИ19-2"
   ]
  },
  {
   "cell_type": "markdown",
   "id": "651848b4",
   "metadata": {},
   "source": [
    "Цель работы:\n",
    "\n",
    "Познакомиться с основными понятиями задачи регрессии и метода градиентного спуска.\n",
    "\n",
    "Задания для выполнения:\n",
    "1.\tЗагрузить данные о котировках нескольких инструментов с сайта РТС (следите за тем, чтобы периоды выгрузки совпадали, иначе весь наш анализ не будет иметь смысл).\n",
    "a.\tМожно взять не очень актуальные, но готовые данные отсюда.\n",
    "2.\tПостроить модель парной линейной регрессии с использованием метода градиентного спуска.\n",
    "3.\tОценить на графике качество построенной модели.\n",
    "4.\tПостроить кривые обучения.\n"
   ]
  },
  {
   "cell_type": "code",
   "execution_count": 1,
   "id": "bc9e39e9",
   "metadata": {},
   "outputs": [],
   "source": [
    "import numpy as np\n",
    "import pandas as pd\n",
    "import matplotlib.pyplot as plt"
   ]
  },
  {
   "cell_type": "code",
   "execution_count": 2,
   "id": "cc01ec91",
   "metadata": {},
   "outputs": [],
   "source": [
    "mvid = pd.read_csv('data/MVID_101001_171001.txt')\n",
    "sber = pd.read_csv('data/SBER_101001_171001.txt')"
   ]
  },
  {
   "cell_type": "code",
   "execution_count": 3,
   "id": "acbfc39b",
   "metadata": {},
   "outputs": [
    {
     "data": {
      "text/html": [
       "<div>\n",
       "<style scoped>\n",
       "    .dataframe tbody tr th:only-of-type {\n",
       "        vertical-align: middle;\n",
       "    }\n",
       "\n",
       "    .dataframe tbody tr th {\n",
       "        vertical-align: top;\n",
       "    }\n",
       "\n",
       "    .dataframe thead th {\n",
       "        text-align: right;\n",
       "    }\n",
       "</style>\n",
       "<table border=\"1\" class=\"dataframe\">\n",
       "  <thead>\n",
       "    <tr style=\"text-align: right;\">\n",
       "      <th></th>\n",
       "      <th>&lt;TICKER&gt;_x</th>\n",
       "      <th>&lt;PER&gt;_x</th>\n",
       "      <th>&lt;DATE&gt;</th>\n",
       "      <th>&lt;TIME&gt;_x</th>\n",
       "      <th>&lt;CLOSE&gt;_x</th>\n",
       "      <th>&lt;VOL&gt;_x</th>\n",
       "      <th>&lt;TICKER&gt;_y</th>\n",
       "      <th>&lt;PER&gt;_y</th>\n",
       "      <th>&lt;TIME&gt;_y</th>\n",
       "      <th>&lt;CLOSE&gt;_y</th>\n",
       "      <th>&lt;VOL&gt;_y</th>\n",
       "    </tr>\n",
       "  </thead>\n",
       "  <tbody>\n",
       "    <tr>\n",
       "      <th>0</th>\n",
       "      <td>SBER</td>\n",
       "      <td>D</td>\n",
       "      <td>20101001</td>\n",
       "      <td>0</td>\n",
       "      <td>89.09</td>\n",
       "      <td>332429890</td>\n",
       "      <td>MVID</td>\n",
       "      <td>D</td>\n",
       "      <td>0</td>\n",
       "      <td>194.38</td>\n",
       "      <td>19406</td>\n",
       "    </tr>\n",
       "    <tr>\n",
       "      <th>1</th>\n",
       "      <td>SBER</td>\n",
       "      <td>D</td>\n",
       "      <td>20101004</td>\n",
       "      <td>0</td>\n",
       "      <td>89.88</td>\n",
       "      <td>194032721</td>\n",
       "      <td>MVID</td>\n",
       "      <td>D</td>\n",
       "      <td>0</td>\n",
       "      <td>190.00</td>\n",
       "      <td>31039</td>\n",
       "    </tr>\n",
       "    <tr>\n",
       "      <th>2</th>\n",
       "      <td>SBER</td>\n",
       "      <td>D</td>\n",
       "      <td>20101005</td>\n",
       "      <td>0</td>\n",
       "      <td>91.97</td>\n",
       "      <td>198775753</td>\n",
       "      <td>MVID</td>\n",
       "      <td>D</td>\n",
       "      <td>0</td>\n",
       "      <td>187.00</td>\n",
       "      <td>17651</td>\n",
       "    </tr>\n",
       "    <tr>\n",
       "      <th>3</th>\n",
       "      <td>SBER</td>\n",
       "      <td>D</td>\n",
       "      <td>20101006</td>\n",
       "      <td>0</td>\n",
       "      <td>91.20</td>\n",
       "      <td>210406027</td>\n",
       "      <td>MVID</td>\n",
       "      <td>D</td>\n",
       "      <td>0</td>\n",
       "      <td>190.04</td>\n",
       "      <td>36482</td>\n",
       "    </tr>\n",
       "    <tr>\n",
       "      <th>4</th>\n",
       "      <td>SBER</td>\n",
       "      <td>D</td>\n",
       "      <td>20101007</td>\n",
       "      <td>0</td>\n",
       "      <td>90.40</td>\n",
       "      <td>145137617</td>\n",
       "      <td>MVID</td>\n",
       "      <td>D</td>\n",
       "      <td>0</td>\n",
       "      <td>199.85</td>\n",
       "      <td>204248</td>\n",
       "    </tr>\n",
       "  </tbody>\n",
       "</table>\n",
       "</div>"
      ],
      "text/plain": [
       "  <TICKER>_x <PER>_x    <DATE>  <TIME>_x  <CLOSE>_x    <VOL>_x <TICKER>_y  \\\n",
       "0       SBER       D  20101001         0      89.09  332429890       MVID   \n",
       "1       SBER       D  20101004         0      89.88  194032721       MVID   \n",
       "2       SBER       D  20101005         0      91.97  198775753       MVID   \n",
       "3       SBER       D  20101006         0      91.20  210406027       MVID   \n",
       "4       SBER       D  20101007         0      90.40  145137617       MVID   \n",
       "\n",
       "  <PER>_y  <TIME>_y  <CLOSE>_y  <VOL>_y  \n",
       "0       D         0     194.38    19406  \n",
       "1       D         0     190.00    31039  \n",
       "2       D         0     187.00    17651  \n",
       "3       D         0     190.04    36482  \n",
       "4       D         0     199.85   204248  "
      ]
     },
     "execution_count": 3,
     "metadata": {},
     "output_type": "execute_result"
    }
   ],
   "source": [
    "res = pd.merge(sber, mvid, on='<DATE>')\n",
    "res.head()"
   ]
  },
  {
   "cell_type": "code",
   "execution_count": 4,
   "id": "fe2636d3",
   "metadata": {},
   "outputs": [
    {
     "data": {
      "image/png": "[encoded data removed]",
      "text/plain": [
       "<Figure size 432x288 with 1 Axes>"
      ]
     },
     "metadata": {
      "needs_background": "light"
     },
     "output_type": "display_data"
    }
   ],
   "source": [
    "x = res['<CLOSE>_x']\n",
    "y = res['<CLOSE>_y']\n",
    "plt.figure()\n",
    "plt.scatter(x, y)\n",
    "plt.show()"
   ]
  },
  {
   "cell_type": "code",
   "execution_count": 5,
   "id": "23887fa8",
   "metadata": {},
   "outputs": [],
   "source": [
    "class hypothesis(object):\n",
    "    \"\"\"Модель парной линейной регрессии\"\"\"\n",
    "    def __init__(self):\n",
    "        self.b0 = 0\n",
    "        self.b1 = 0\n",
    "        \n",
    "    # реализуем метод, который принимает значение входной переменной и возвращает теоретическое значение выходной \n",
    "    # - это прямое действие нашей регрессии - метод предсказания результата по факторам \n",
    "    # (в случае парной регрессии - по одному фактору):     \n",
    "    def predict(self, x):\n",
    "        return self.b0 + self.b1 * x\n",
    "\n",
    "    # Зададим функцию ошибки:\n",
    "    def error(self, X, Y):    \n",
    "        return sum((self.predict(X) - Y)**2) / (2 * len(X)) \n",
    "\n",
    "    # Теперь реализуем метод градиентного спуска. \n",
    "    # Он должен принимать массив X и массив Y и обновлять параметры регрессии в соответствии в формулами градиентного спуска:\n",
    "    def BGD(self, X, Y, alpha=0.000005, accuracy=0.01):\n",
    "        steps, errors = [], []\n",
    "        step = 0        \n",
    "        old_err = hyp.error(X, Y)\n",
    "        new_err = hyp.error(X, Y) - 1\n",
    "        dJ = 1\n",
    "        while dJ > accuracy:\n",
    "            dJ0 = sum(self.predict(X) - Y) /len(X)\n",
    "            dJ1 = sum((self.predict(X) - Y) * X) /len(X)\n",
    "            self.b0 -= alpha * dJ0\n",
    "            self.b1 -= alpha * dJ1            \n",
    "            old_err = new_err\n",
    "            new_err = hyp.error(X, Y)\n",
    "            dJ = old_err - new_err          \n",
    "            step += 1            \n",
    "            steps.append(step)\n",
    "            errors.append(new_err)\n",
    "        return steps, errors"
   ]
  },
  {
   "cell_type": "code",
   "execution_count": 6,
   "id": "61eb0baa",
   "metadata": {},
   "outputs": [
    {
     "name": "stdout",
     "output_type": "stream",
     "text": [
      "error after gradient descent: 298.76881676471504\n"
     ]
    }
   ],
   "source": [
    "# Запустим наш градиентный спуск:\n",
    "\n",
    "hyp = hypothesis()\n",
    "steps, errors = hyp.BGD(x, y)\n",
    "J = hyp.error(x, y)\n",
    "print(\"error after gradient descent:\", J)"
   ]
  },
  {
   "cell_type": "code",
   "execution_count": 7,
   "id": "83735aba",
   "metadata": {},
   "outputs": [
    {
     "data": {
      "image/png": "[encoded data removed]",
      "text/plain": [
       "<Figure size 432x288 with 1 Axes>"
      ]
     },
     "metadata": {
      "needs_background": "light"
     },
     "output_type": "display_data"
    }
   ],
   "source": [
    "# Посмотрим, как теперь наша регрессия выглядит на графике:\n",
    "\n",
    "X0 = np.linspace(60, 180, 100)\n",
    "Y0 = hyp.predict(X0)\n",
    "\n",
    "plt.figure()\n",
    "plt.scatter(x, y)\n",
    "plt.plot(X0, Y0, 'r')\n",
    "plt.show()"
   ]
  },
  {
   "cell_type": "code",
   "execution_count": 8,
   "id": "d1420733",
   "metadata": {},
   "outputs": [
    {
     "data": {
      "image/png": "[encoded data removed]",
      "text/plain": [
       "<Figure size 432x288 with 1 Axes>"
      ]
     },
     "metadata": {
      "needs_background": "light"
     },
     "output_type": "display_data"
    }
   ],
   "source": [
    "# Проанализируем, как ошибка регрессии менялась со временем:\n",
    "\n",
    "plt.figure()\n",
    "plt.plot(steps, errors, 'g')\n",
    "plt.show()"
   ]
  }
 ],
 "metadata": {
  "kernelspec": {
   "display_name": "Python 3 (ipykernel)",
   "language": "python",
   "name": "python3"
  },
  "language_info": {
   "codemirror_mode": {
    "name": "ipython",
    "version": 3
   },
   "file_extension": ".py",
   "mimetype": "text/x-python",
   "name": "python",
   "nbconvert_exporter": "python",
   "pygments_lexer": "ipython3",
   "version": "3.8.12"
  }
 },
 "nbformat": 4,
 "nbformat_minor": 5
}
